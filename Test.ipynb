{
 "cells": [
  {
   "cell_type": "markdown",
   "metadata": {
    "cellId": "ep0xz0at9jomn2uly06c3",
    "colab_type": "text",
    "execution_id": "0de7d270-d231-4ce1-8123-e561bf2d244d",
    "id": "view-in-github"
   },
   "source": [
    "<a href=\"https://colab.research.google.com/github/Felaxx/test_Colab_Sphere/blob/master/Test.ipynb\" target=\"_parent\"><img src=\"https://colab.research.google.com/assets/colab-badge.svg\" alt=\"Open In Colab\"/></a>"
   ]
  },
  {
   "cell_type": "code",
   "execution_count": null,
   "metadata": {
    "cellId": "5hxub057ldcfhqjuhm4zh4"
   },
   "outputs": [],
   "source": []
  },
  {
   "cell_type": "code",
   "execution_count": 14,
   "metadata": {
    "cellId": "akvemtdkljkuzwmlecr0s",
    "colab": {
     "base_uri": "https://localhost:8080/"
    },
    "id": "QrD71Np0wqtp",
    "outputId": "85ba200c-9757-42ad-e910-c05759bea447"
   },
   "outputs": [
    {
     "name": "stdout",
     "output_type": "stream",
     "text": [
      "['spam!', 'spa!m', 'spm!a', 'spma!', 'sp!am', 'sp!ma', 'sam!p', 'samp!', 'sa!pm', 'sa!mp', 'sapm!', 'sap!m', 'sm!pa', 'sm!ap', 'smpa!', 'smp!a', 'sma!p', 'smap!', 's!pam', 's!pma', 's!amp', 's!apm', 's!mpa', 's!map', 'pam!s', 'pams!', 'pa!sm', 'pa!ms', 'pasm!', 'pas!m', 'pm!sa', 'pm!as', 'pmsa!', 'pms!a', 'pma!s', 'pmas!', 'p!sam', 'p!sma', 'p!ams', 'p!asm', 'p!msa', 'p!mas', 'psam!', 'psa!m', 'psm!a', 'psma!', 'ps!am', 'ps!ma', 'am!sp', 'am!ps', 'amsp!', 'ams!p', 'amp!s', 'amps!', 'a!spm', 'a!smp', 'a!pms', 'a!psm', 'a!msp', 'a!mps', 'aspm!', 'asp!m', 'asm!p', 'asmp!', 'as!pm', 'as!mp', 'apm!s', 'apms!', 'ap!sm', 'ap!ms', 'apsm!', 'aps!m', 'm!spa', 'm!sap', 'm!pas', 'm!psa', 'm!asp', 'm!aps', 'mspa!', 'msp!a', 'msa!p', 'msap!', 'ms!pa', 'ms!ap', 'mpa!s', 'mpas!', 'mp!sa', 'mp!as', 'mpsa!', 'mps!a', 'ma!sp', 'ma!ps', 'masp!', 'mas!p', 'map!s', 'maps!', '!spam', '!spma', '!samp', '!sapm', '!smpa', '!smap', '!pams', '!pasm', '!pmsa', '!pmas', '!psam', '!psma', '!amsp', '!amps', '!aspm', '!asmp', '!apms', '!apsm', '!mspa', '!msap', '!mpas', '!mpsa', '!masp', '!maps'] 120\n",
      "['spam!', 'spa!m', 'spma!', 'spm!a', 'sp!am', 'sp!ma', 'sapm!', 'sap!m', 'samp!', 'sam!p', 'sa!pm', 'sa!mp', 'smpa!', 'smp!a', 'smap!', 'sma!p', 'sm!pa', 'sm!ap', 's!pam', 's!pma', 's!apm', 's!amp', 's!mpa', 's!map', 'psam!', 'psa!m', 'psma!', 'psm!a', 'ps!am', 'ps!ma', 'pasm!', 'pas!m', 'pams!', 'pam!s', 'pa!sm', 'pa!ms', 'pmsa!', 'pms!a', 'pmas!', 'pma!s', 'pm!sa', 'pm!as', 'p!sam', 'p!sma', 'p!asm', 'p!ams', 'p!msa', 'p!mas', 'aspm!', 'asp!m', 'asmp!', 'asm!p', 'as!pm', 'as!mp', 'apsm!', 'aps!m', 'apms!', 'apm!s', 'ap!sm', 'ap!ms', 'amsp!', 'ams!p', 'amps!', 'amp!s', 'am!sp', 'am!ps', 'a!spm', 'a!smp', 'a!psm', 'a!pms', 'a!msp', 'a!mps', 'mspa!', 'msp!a', 'msap!', 'msa!p', 'ms!pa', 'ms!ap', 'mpsa!', 'mps!a', 'mpas!', 'mpa!s', 'mp!sa', 'mp!as', 'masp!', 'mas!p', 'maps!', 'map!s', 'ma!sp', 'ma!ps', 'm!spa', 'm!sap', 'm!psa', 'm!pas', 'm!asp', 'm!aps', '!spam', '!spma', '!sapm', '!samp', '!smpa', '!smap', '!psam', '!psma', '!pasm', '!pams', '!pmsa', '!pmas', '!aspm', '!asmp', '!apsm', '!apms', '!amsp', '!amps', '!mspa', '!msap', '!mpsa', '!mpas', '!masp', '!maps'] 120\n",
      "Проверка: True\n",
      "[['s', 'p', 'a', 'm', '!'], ['p', 's', 'a', 'm', '!'], ['p', 'a', 's', 'm', '!'], ['p', 'a', 'm', 's', '!'], ['p', 'a', 'm', '!', 's'], ['s', 'a', 'p', 'm', '!'], ['a', 's', 'p', 'm', '!'], ['a', 'p', 's', 'm', '!'], ['a', 'p', 'm', 's', '!'], ['a', 'p', 'm', '!', 's'], ['s', 'a', 'm', 'p', '!'], ['a', 's', 'm', 'p', '!'], ['a', 'm', 's', 'p', '!'], ['a', 'm', 'p', 's', '!'], ['a', 'm', 'p', '!', 's'], ['s', 'a', 'm', '!', 'p'], ['a', 's', 'm', '!', 'p'], ['a', 'm', 's', '!', 'p'], ['a', 'm', '!', 's', 'p'], ['a', 'm', '!', 'p', 's'], ['s', 'p', 'm', 'a', '!'], ['p', 's', 'm', 'a', '!'], ['p', 'm', 's', 'a', '!'], ['p', 'm', 'a', 's', '!'], ['p', 'm', 'a', '!', 's'], ['s', 'm', 'p', 'a', '!'], ['m', 's', 'p', 'a', '!'], ['m', 'p', 's', 'a', '!'], ['m', 'p', 'a', 's', '!'], ['m', 'p', 'a', '!', 's'], ['s', 'm', 'a', 'p', '!'], ['m', 's', 'a', 'p', '!'], ['m', 'a', 's', 'p', '!'], ['m', 'a', 'p', 's', '!'], ['m', 'a', 'p', '!', 's'], ['s', 'm', 'a', '!', 'p'], ['m', 's', 'a', '!', 'p'], ['m', 'a', 's', '!', 'p'], ['m', 'a', '!', 's', 'p'], ['m', 'a', '!', 'p', 's'], ['s', 'p', 'm', '!', 'a'], ['p', 's', 'm', '!', 'a'], ['p', 'm', 's', '!', 'a'], ['p', 'm', '!', 's', 'a'], ['p', 'm', '!', 'a', 's'], ['s', 'm', 'p', '!', 'a'], ['m', 's', 'p', '!', 'a'], ['m', 'p', 's', '!', 'a'], ['m', 'p', '!', 's', 'a'], ['m', 'p', '!', 'a', 's'], ['s', 'm', '!', 'p', 'a'], ['m', 's', '!', 'p', 'a'], ['m', '!', 's', 'p', 'a'], ['m', '!', 'p', 's', 'a'], ['m', '!', 'p', 'a', 's'], ['s', 'm', '!', 'a', 'p'], ['m', 's', '!', 'a', 'p'], ['m', '!', 's', 'a', 'p'], ['m', '!', 'a', 's', 'p'], ['m', '!', 'a', 'p', 's'], ['s', 'p', 'a', '!', 'm'], ['p', 's', 'a', '!', 'm'], ['p', 'a', 's', '!', 'm'], ['p', 'a', '!', 's', 'm'], ['p', 'a', '!', 'm', 's'], ['s', 'a', 'p', '!', 'm'], ['a', 's', 'p', '!', 'm'], ['a', 'p', 's', '!', 'm'], ['a', 'p', '!', 's', 'm'], ['a', 'p', '!', 'm', 's'], ['s', 'a', '!', 'p', 'm'], ['a', 's', '!', 'p', 'm'], ['a', '!', 's', 'p', 'm'], ['a', '!', 'p', 's', 'm'], ['a', '!', 'p', 'm', 's'], ['s', 'a', '!', 'm', 'p'], ['a', 's', '!', 'm', 'p'], ['a', '!', 's', 'm', 'p'], ['a', '!', 'm', 's', 'p'], ['a', '!', 'm', 'p', 's'], ['s', 'p', '!', 'a', 'm'], ['p', 's', '!', 'a', 'm'], ['p', '!', 's', 'a', 'm'], ['p', '!', 'a', 's', 'm'], ['p', '!', 'a', 'm', 's'], ['s', '!', 'p', 'a', 'm'], ['!', 's', 'p', 'a', 'm'], ['!', 'p', 's', 'a', 'm'], ['!', 'p', 'a', 's', 'm'], ['!', 'p', 'a', 'm', 's'], ['s', '!', 'a', 'p', 'm'], ['!', 's', 'a', 'p', 'm'], ['!', 'a', 's', 'p', 'm'], ['!', 'a', 'p', 's', 'm'], ['!', 'a', 'p', 'm', 's'], ['s', '!', 'a', 'm', 'p'], ['!', 's', 'a', 'm', 'p'], ['!', 'a', 's', 'm', 'p'], ['!', 'a', 'm', 's', 'p'], ['!', 'a', 'm', 'p', 's'], ['s', 'p', '!', 'm', 'a'], ['p', 's', '!', 'm', 'a'], ['p', '!', 's', 'm', 'a'], ['p', '!', 'm', 's', 'a'], ['p', '!', 'm', 'a', 's'], ['s', '!', 'p', 'm', 'a'], ['!', 's', 'p', 'm', 'a'], ['!', 'p', 's', 'm', 'a'], ['!', 'p', 'm', 's', 'a'], ['!', 'p', 'm', 'a', 's'], ['s', '!', 'm', 'p', 'a'], ['!', 's', 'm', 'p', 'a'], ['!', 'm', 's', 'p', 'a'], ['!', 'm', 'p', 's', 'a'], ['!', 'm', 'p', 'a', 's'], ['s', '!', 'm', 'a', 'p'], ['!', 's', 'm', 'a', 'p'], ['!', 'm', 's', 'a', 'p'], ['!', 'm', 'a', 's', 'p'], ['!', 'm', 'a', 'p', 's']]\n"
     ]
    }
   ],
   "source": [
    "S = 'spam!'\n",
    "'''Bad'''\n",
    "def permute_bad(S, x = '', L = []):              # параметры x и L нужны для внутреннего использования, передавать при вызове не нужно\n",
    "    if len(S)==1:\n",
    "        L.append(x+S)\n",
    "    for i in range(len(S)):\n",
    "        permute_bad(S[i+1:]+S[:i], x+S[i], L)    # Пояснение : S2 = S[i:] + S[:i]; permute_bad(S2[1:], x+S2[0], L)\n",
    "    if not x: return L\n",
    "res_bad = permute_bad(S)\n",
    "print(res_bad, len(res_bad))\n",
    "\n",
    "'''Good'''\n",
    "def permute_good(S):\n",
    "    if not S: return [S]\n",
    "    else:\n",
    "        res = []\n",
    "        for i in range(len(S)):\n",
    "            rest = S[:i] + S[i+1:]\n",
    "            for x in permute_good(rest):\n",
    "                res.append(S[i:i+1]+x)\n",
    "        return res\n",
    "res_good = permute_good(S)\n",
    "print(res_good, len(res_good))\n",
    "\n",
    "'''Проверка'''\n",
    "A, B = set(res_bad), set(res_good)\n",
    "print('Проверка:', A == B)\n",
    "\n",
    "'''Еще один вариант'''\n",
    "def all_perms(arr):\n",
    "    if len(arr)==1:\n",
    "        return [arr] # терминальная ветвь\n",
    "    else:\n",
    "        a=arr[0] # первый элемент списка\n",
    "        p=all_perms(arr[1:]) # все перестановки хвоста\n",
    "        r=[]  # вставляем a в каждую возможную позицию каждой\n",
    "        for pp in p: # перестановки хвоста\n",
    "            for i in range(len(pp)):\n",
    "                tmp=pp[0:i]+[a]+pp[i:]\n",
    "                r.append(tmp)\n",
    "            r.append(pp+[a])\n",
    "        return r\n",
    "\n",
    "print(all_perms(list(S)))\n"
   ]
  },
  {
   "cell_type": "code",
   "execution_count": null,
   "metadata": {
    "cellId": "ruxq7rnymmxnzacp8z72"
   },
   "outputs": [],
   "source": [
    "#!c1.4\n"
   ]
  }
 ],
 "metadata": {
  "colab": {
   "authorship_tag": "ABX9TyMo3jfnt/LE+O86w1hqrLgd",
   "include_colab_link": true,
   "provenance": []
  },
  "language_info": {
   "codemirror_mode": {
    "name": "ipython",
    "version": 3
   },
   "file_extension": ".py",
   "mimetype": "text/x-python",
   "name": "python",
   "nbconvert_exporter": "python",
   "pygments_lexer": "ipython3",
   "version": "3.7.7"
  },
  "notebookId": "466a751b-4cb6-4f5b-bc5f-1535311a95c9",
  "notebookPath": "Git_test/test_Colab_Sphere/Test.ipynb"
 },
 "nbformat": 4,
 "nbformat_minor": 4
}
