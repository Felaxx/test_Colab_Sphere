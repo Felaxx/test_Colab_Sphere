{
  "nbformat": 4,
  "nbformat_minor": 0,
  "metadata": {
    "colab": {
      "provenance": [],
      "authorship_tag": "ABX9TyMo3jfnt/LE+O86w1hqrLgd",
      "include_colab_link": true
    },
    "kernelspec": {
      "name": "python3",
      "display_name": "Python 3"
    },
    "language_info": {
      "name": "python"
    }
  },
  "cells": [
    {
      "cell_type": "markdown",
      "metadata": {
        "id": "view-in-github",
        "colab_type": "text"
      },
      "source": [
        "<a href=\"https://colab.research.google.com/github/Felaxx/test_Colab_Sphere/blob/master/Test.ipynb\" target=\"_parent\"><img src=\"https://colab.research.google.com/assets/colab-badge.svg\" alt=\"Open In Colab\"/></a>"
      ]
    },
    {
      "cell_type": "code",
      "execution_count": 5,
      "metadata": {
        "id": "QrD71Np0wqtp",
        "outputId": "85ba200c-9757-42ad-e910-c05759bea447",
        "colab": {
          "base_uri": "https://localhost:8080/"
        }
      },
      "outputs": [
        {
          "output_type": "stream",
          "name": "stdout",
          "text": [
            "['spam', 'spma', 'samp', 'sapm', 'smpa', 'smap', 'pams', 'pasm', 'pmsa', 'pmas', 'psam', 'psma', 'amsp', 'amps', 'aspm', 'asmp', 'apms', 'apsm', 'mspa', 'msap', 'mpas', 'mpsa', 'masp', 'maps'] 24\n",
            "['spam', 'spma', 'sapm', 'samp', 'smpa', 'smap', 'psam', 'psma', 'pasm', 'pams', 'pmsa', 'pmas', 'aspm', 'asmp', 'apsm', 'apms', 'amsp', 'amps', 'mspa', 'msap', 'mpsa', 'mpas', 'masp', 'maps'] 24\n",
            "Проверка: True\n",
            "[['s', 'p', 'a', 'm'], ['p', 's', 'a', 'm'], ['p', 'a', 's', 'm'], ['p', 'a', 'm', 's'], ['s', 'a', 'p', 'm'], ['a', 's', 'p', 'm'], ['a', 'p', 's', 'm'], ['a', 'p', 'm', 's'], ['s', 'a', 'm', 'p'], ['a', 's', 'm', 'p'], ['a', 'm', 's', 'p'], ['a', 'm', 'p', 's'], ['s', 'p', 'm', 'a'], ['p', 's', 'm', 'a'], ['p', 'm', 's', 'a'], ['p', 'm', 'a', 's'], ['s', 'm', 'p', 'a'], ['m', 's', 'p', 'a'], ['m', 'p', 's', 'a'], ['m', 'p', 'a', 's'], ['s', 'm', 'a', 'p'], ['m', 's', 'a', 'p'], ['m', 'a', 's', 'p'], ['m', 'a', 'p', 's']]\n"
          ]
        }
      ],
      "source": [
        "S = 'spam'\n",
        "'''Bad'''\n",
        "def permute_bad(S, x = '', L = []):              # параметры x и L нужны для внутреннего использования, передавать при вызове не нужно\n",
        "    if len(S)==1:\n",
        "        L.append(x+S)\n",
        "    for i in range(len(S)):\n",
        "        permute_bad(S[i+1:]+S[:i], x+S[i], L)    # Пояснение : S2 = S[i:] + S[:i]; permute_bad(S2[1:], x+S2[0], L)\n",
        "    if not x: return L\n",
        "res_bad = permute_bad(S)\n",
        "print(res_bad, len(res_bad))\n",
        "\n",
        "'''Good'''\n",
        "def permute_good(S):\n",
        "    if not S: return [S]\n",
        "    else:\n",
        "        res = []\n",
        "        for i in range(len(S)):\n",
        "            rest = S[:i] + S[i+1:]\n",
        "            for x in permute_good(rest):\n",
        "                res.append(S[i:i+1]+x)\n",
        "        return res\n",
        "res_good = permute_good(S)\n",
        "print(res_good, len(res_good))\n",
        "\n",
        "'''Проверка'''\n",
        "A, B = set(res_bad), set(res_good)\n",
        "print('Проверка:', A == B)\n",
        "\n",
        "'''Еще один вариант'''\n",
        "def all_perms(arr):\n",
        "    if len(arr)==1:\n",
        "        return [arr] # терминальная ветвь\n",
        "    else:\n",
        "        a=arr[0] # первый элемент списка\n",
        "        p=all_perms(arr[1:]) # все перестановки хвоста\n",
        "        r=[]  # вставляем a в каждую возможную позицию каждой\n",
        "        for pp in p: # перестановки хвоста\n",
        "            for i in range(len(pp)):\n",
        "                tmp=pp[0:i]+[a]+pp[i:]\n",
        "                r.append(tmp)\n",
        "            r.append(pp+[a])\n",
        "        return r\n",
        "\n",
        "print(all_perms(list(S)))\n"
      ]
    }
  ]
}